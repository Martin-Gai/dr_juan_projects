{
 "cells": [
  {
   "cell_type": "markdown",
   "metadata": {},
   "source": [
    "# Synthetic Control in PyMC\n",
    "\n",
    "In this notebook we provide an example of how to implement a synthetic control problem in PyMC to answer a \"what if this had happened?\" type of question in the context of causal inference. We reproduce the results of the example provided in the great book [Causal Inference for The Brave and True](https://matheusfacure.github.io/python-causality-handbook/landing-page.html) by [Matheus Facure](https://matheusfacure.github.io/). Specifically, we look into the problem of estimating the *effect of cigarette taxation on its consumption* presented in Chapter [15 - Synthetic Control](https://matheusfacure.github.io/python-causality-handbook/15-Synthetic-Control.html)."
   ]
  },
  {
   "cell_type": "markdown",
   "metadata": {},
   "source": [
    "## Prepare Notebook"
   ]
  },
  {
   "cell_type": "code",
   "execution_count": null,
   "metadata": {},
   "outputs": [],
   "source": [
    "import aesara.tensor as at\n",
    "import arviz as az\n",
    "import matplotlib.pyplot as plt\n",
    "import numpy as np\n",
    "import pandas as pd\n",
    "import pymc as pm\n",
    "import pymc.sampling_jax\n",
    "from pymc.distributions.continuous import Exponential\n",
    "from sklearn.preprocessing import StandardScaler\n",
    "import seaborn as sns\n",
    "\n",
    "\n",
    "plt.style.use(\"bmh\")\n",
    "plt.rcParams[\"figure.figsize\"] = [10, 6]\n",
    "plt.rcParams[\"figure.dpi\"] = 100\n",
    "plt.rcParams[\"figure.facecolor\"] = \"white\"\n",
    "\n",
    "%load_ext rich\n",
    "%load_ext autoreload\n",
    "%autoreload 2\n",
    "%config InlineBackend.figure_format = \"retina\""
   ]
  },
  {
   "cell_type": "markdown",
   "metadata": {},
   "source": [
    "## Read Data"
   ]
  },
  {
   "cell_type": "code",
   "execution_count": null,
   "metadata": {},
   "outputs": [],
   "source": [
    "data_path = \"https://raw.githubusercontent.com/matheusfacure/python-causality-handbook/master/causal-inference-for-the-brave-and-true/data/smoking.csv\"\n",
    "\n",
    "raw_data_df = pd.read_csv(data_path)\n",
    "\n",
    "raw_data_df.head()"
   ]
  },
  {
   "cell_type": "code",
   "execution_count": null,
   "metadata": {},
   "outputs": [],
   "source": [
    "df = raw_data_df.copy().drop(columns=[\"lnincome\", \"beer\", \"age15to24\"]).assign()\n",
    "\n",
    "df.info()"
   ]
  },
  {
   "cell_type": "code",
   "execution_count": null,
   "metadata": {},
   "outputs": [],
   "source": [
    "fig, ax = plt.subplots()\n",
    "\n",
    "(\n",
    "    df.groupby([\"year\", \"california\"], as_index=False)\n",
    "    .agg({\"cigsale\": np.mean})\n",
    "    .pipe(\n",
    "        (sns.lineplot, \"data\"),\n",
    "        x=\"year\",\n",
    "        y=\"cigsale\",\n",
    "        hue=\"california\",\n",
    "        marker=\"o\",\n",
    "        ax=ax,\n",
    "    )\n",
    ")\n",
    "ax.axvline(\n",
    "    x=1988,\n",
    "    linestyle=\":\",\n",
    "    lw=2,\n",
    "    color=\"C2\",\n",
    "    label=\"Proposition 99\",\n",
    ")\n",
    "ax.legend(loc=\"upper right\")\n",
    "ax.set(\n",
    "    title=\"Gap in per-capita cigarette sales (in packs)\", ylabel=\"Cigarette Sales Trend\"\n",
    ");\n"
   ]
  },
  {
   "cell_type": "code",
   "execution_count": null,
   "metadata": {},
   "outputs": [],
   "source": [
    "features = [\"cigsale\", \"retprice\"]\n",
    "\n",
    "pre_df = (\n",
    "    df\n",
    "    .query(\"~ after_treatment\")\n",
    "    .pivot(index='state', columns=\"year\", values=features)\n",
    "    .T\n",
    ")\n",
    "\n",
    "post_df = (\n",
    "    df\n",
    "    .query(\"after_treatment\")\n",
    "    .pivot(index='state', columns=\"year\", values=features)\n",
    "    .T\n",
    ")"
   ]
  },
  {
   "cell_type": "code",
   "execution_count": null,
   "metadata": {},
   "outputs": [],
   "source": [
    "idx = 3\n",
    "\n",
    "y_pre = pre_df[idx].to_numpy()\n",
    "x_pre = pre_df.drop(columns=idx).to_numpy()\n",
    "pre_years = pre_df.reset_index(inplace=False).year.unique()\n",
    "n_pre = pre_years.size\n",
    "\n",
    "y_post = post_df[idx].to_numpy()\n",
    "x_post = post_df.drop(columns=idx).to_numpy()\n",
    "post_years = post_df.reset_index(inplace=False).year.unique()\n",
    "n_post = post_years.size\n",
    "\n",
    "k = pre_df.shape[0]"
   ]
  },
  {
   "cell_type": "code",
   "execution_count": null,
   "metadata": {},
   "outputs": [],
   "source": [
    "with pm.Model() as model:\n",
    "    x = pm.MutableData(name=\"x\", value=x_pre)\n",
    "    y = pm.MutableData(name=\"y\", value=y_pre)\n",
    "\n",
    "    beta = pm.Dirichlet(name=\"beta\", a=(1 / k) * np.ones(k))\n",
    "    sigma = pm.HalfNormal(name=\"sigma\", sigma=5)\n",
    "    mu = pm.Deterministic(name=\"mu\", var=pm.math.dot(x, beta))\n",
    "    likelihood = pm.Normal(name=\"likelihood\", mu=mu, sigma=sigma, observed=y)\n",
    "\n",
    "pm.model_to_graphviz(model)"
   ]
  },
  {
   "cell_type": "code",
   "execution_count": null,
   "metadata": {},
   "outputs": [],
   "source": [
    "with model:\n",
    "    idata = pm.sampling_jax.sample_numpyro_nuts(draws=4000, chains=4)\n",
    "    posterior_predictive_pre = pm.sample_posterior_predictive(trace=idata)"
   ]
  },
  {
   "cell_type": "code",
   "execution_count": null,
   "metadata": {},
   "outputs": [],
   "source": [
    "az.summary(data=idata)"
   ]
  },
  {
   "cell_type": "code",
   "execution_count": null,
   "metadata": {},
   "outputs": [],
   "source": [
    "az.plot_forest(data=idata, combined=True, var_names=[\"beta\"]);"
   ]
  },
  {
   "cell_type": "code",
   "execution_count": null,
   "metadata": {},
   "outputs": [],
   "source": [
    "np.unique(\n",
    "    idata\n",
    "    .posterior[\"beta\"]\n",
    "    .stack(samples=(\"chain\", \"draw\"))\n",
    "    .sum(axis=0)\n",
    "    .to_numpy()\n",
    "    - 1\n",
    ")"
   ]
  },
  {
   "cell_type": "code",
   "execution_count": null,
   "metadata": {},
   "outputs": [],
   "source": [
    "with model:\n",
    "    pm.set_data(new_data={\"x\": x_post, \"y\": y_post})\n",
    "    posterior_predictive_post = pm.sample_posterior_predictive(\n",
    "        trace=idata, var_names=[\"likelihood\"]\n",
    "    )\n"
   ]
  },
  {
   "cell_type": "code",
   "execution_count": null,
   "metadata": {},
   "outputs": [],
   "source": [
    "pre_posterior_mean = (\n",
    "    posterior_predictive_pre\n",
    "    .posterior_predictive\n",
    "    [\"likelihood\"]\n",
    "    [:, :, : n_pre]\n",
    "    .stack(samples=(\"chain\", \"draw\"))\n",
    "    .mean(axis=1)\n",
    ")\n",
    "\n",
    "post_posterior_mean = (\n",
    "    posterior_predictive_post\n",
    "    .posterior_predictive\n",
    "    [\"likelihood\"]\n",
    "    [:, :, : n_post]\n",
    "    .stack(samples=(\"chain\", \"draw\"))\n",
    "    .mean(axis=1)\n",
    ")\n",
    "\n",
    "\n",
    "fig, ax = plt.subplots()\n",
    "\n",
    "(\n",
    "    df.groupby([\"year\", \"california\"], as_index=False)\n",
    "    .agg({\"cigsale\": np.mean})\n",
    "    .assign(california=lambda x: x.california.map(\n",
    "        {True: \"is_california\", False: \"is_not_california\"})\n",
    "    )\n",
    "    .pipe(\n",
    "        (sns.lineplot, \"data\"),\n",
    "        x=\"year\",\n",
    "        y=\"cigsale\",\n",
    "        hue=\"california\",\n",
    "        alpha=0.5,\n",
    "        ax=ax,\n",
    "    )\n",
    ")\n",
    "ax.axvline(\n",
    "    x=1988,\n",
    "    linestyle=\":\",\n",
    "    lw=2,\n",
    "    color=\"C2\",\n",
    "    label=\"Proposition 99\",\n",
    ")\n",
    "sns.lineplot(\n",
    "    x=pre_years,\n",
    "    y=pre_posterior_mean,\n",
    "    color=\"C1\",\n",
    "    marker=\"o\",\n",
    "    label=\"pre-treatment posterior predictive mean\",\n",
    "    ax=ax\n",
    ")\n",
    "sns.lineplot(\n",
    "    x=post_years,\n",
    "    y=post_posterior_mean,\n",
    "    color=\"C2\",\n",
    "    marker=\"o\",\n",
    "    label=\"post-treatment posterior predictive mean\",\n",
    "    ax=ax\n",
    ")\n",
    "az.plot_hdi(\n",
    "    x=pre_years,\n",
    "    y=posterior_predictive_pre.posterior_predictive[\"likelihood\"][:, :, : n_pre],\n",
    "    smooth=True,\n",
    "    color=\"C1\",\n",
    "    fill_kwargs={\"label\": \"pre-treatment posterior predictive (94% HDI)\"},\n",
    "    ax=ax\n",
    ")\n",
    "az.plot_hdi(\n",
    "    x=post_years,\n",
    "    y=posterior_predictive_post.posterior_predictive[\"likelihood\"][:, :, : n_post],\n",
    "    smooth=True,\n",
    "    color=\"C2\",\n",
    "    fill_kwargs={\"label\": \"post-treatment posterior predictive (94% HDI)\"},\n",
    "    ax=ax\n",
    ")\n",
    "ax.legend(loc=\"lower left\")\n",
    "ax.set(\n",
    "    title=\"Gap in per-capita cigarette sales (in packs)\", ylabel=\"Cigarette Sales Trend\"\n",
    ");\n"
   ]
  },
  {
   "cell_type": "code",
   "execution_count": null,
   "metadata": {},
   "outputs": [],
   "source": [
    "fig, ax = plt.subplots()\n",
    "\n",
    "ax.axvline(\n",
    "    x=1988,\n",
    "    linestyle=\":\",\n",
    "    lw=2,\n",
    "    color=\"C2\",\n",
    "    label=\"Proposition 99\",\n",
    ")\n",
    "sns.lineplot(\n",
    "    x=pre_years,\n",
    "    y=y_pre[:n_pre] - pre_posterior_mean,\n",
    "    color=\"C1\",\n",
    "    marker=\"o\",\n",
    "    label=\"pre-treatment posterior predictive effect mean\",\n",
    "    ax=ax\n",
    ")\n",
    "sns.lineplot(\n",
    "    x=post_years,\n",
    "    y=y_post[:n_post] - post_posterior_mean,\n",
    "    color=\"C2\",\n",
    "    marker=\"o\",\n",
    "    label=\"post-treatment posterior predictive effect mean\",\n",
    "    ax=ax\n",
    ")\n",
    "az.plot_hdi(\n",
    "    x=pre_years,\n",
    "    y=y_pre[:n_pre] - posterior_predictive_pre.posterior_predictive[\"likelihood\"][:, :, : n_pre],\n",
    "    smooth=True,\n",
    "    color=\"C1\",\n",
    "    fill_kwargs={\"label\": \"pre-treatment posterior predictive effect (94% HDI)\"},\n",
    "    ax=ax\n",
    ")\n",
    "az.plot_hdi(\n",
    "    x=post_years,\n",
    "    y=y_post[:n_post] - posterior_predictive_post.posterior_predictive[\"likelihood\"][:, :, : n_post],\n",
    "    smooth=True,\n",
    "    color=\"C2\",\n",
    "    fill_kwargs={\"label\": \"post-treatment posterior predictive effect (94% HDI)\"},\n",
    "    ax=ax\n",
    ")\n",
    "ax.axhline(y=0.0, color=\"black\", linestyle=\"--\", label=\"zero\")\n",
    "ax.legend(loc=\"lower left\")\n",
    "ax.set(\n",
    "    title=\"Gap in per-capita cigarette sales (in packs) - Effect\",\n",
    "    ylabel=\"Cigarette Sales Trend\"\n",
    ");"
   ]
  },
  {
   "cell_type": "code",
   "execution_count": null,
   "metadata": {},
   "outputs": [],
   "source": [
    "g = (\n",
    "    (\n",
    "        y_post[:n_post] - posterior_predictive_post.posterior_predictive[\"likelihood\"][:, :, : n_post]\n",
    "    )\n",
    "    [:, :, -1]\n",
    "    .stack(samples=(\"chain\", \"draw\"))\n",
    "    .pipe((sns.displot, \"data\"), kde=True)\n",
    ")\n",
    "g.set(title=\"reduced the sales in cigarettes in 2000\");"
   ]
  },
  {
   "cell_type": "markdown",
   "metadata": {},
   "source": [
    "---"
   ]
  },
  {
   "cell_type": "code",
   "execution_count": null,
   "metadata": {},
   "outputs": [],
   "source": [
    "def run_synthetic_control(pre_df: pd.DataFrame, post_df: pd.DataFrame, idx: int) -> tuple[]:\n",
    "\n",
    "    y_pre = pre_df[idx].to_numpy()\n",
    "    x_pre = pre_df.drop(columns=idx).to_numpy()\n",
    "    pre_years = pre_df.reset_index(inplace=False).year.unique()\n",
    "    n_pre = pre_years.size\n",
    "\n",
    "    y_post = post_df[idx].to_numpy()\n",
    "    x_post = post_df.drop(columns=idx).to_numpy()\n",
    "    post_years = post_df.reset_index(inplace=False).year.unique()\n",
    "    n_post = post_years.size\n",
    "\n",
    "    k = pre_df.shape[0]\n",
    "\n",
    "    with pm.Model() as model:\n",
    "        x = pm.MutableData(name=\"x\", value=x_pre)\n",
    "        y = pm.MutableData(name=\"y\", value=y_pre)\n",
    "\n",
    "        beta = pm.Dirichlet(name=\"beta\", a=(1 / k) * np.ones(k))\n",
    "        sigma = pm.HalfNormal(name=\"sigma\", sigma=5)\n",
    "        mu = pm.Deterministic(name=\"mu\", var=pm.math.dot(x, beta))\n",
    "        likelihood = pm.Normal(name=\"likelihood\", mu=mu, sigma=sigma, observed=y)\n",
    "\n",
    "        idata = pm.sampling_jax.sample_numpyro_nuts(draws=4000, chains=4)\n",
    "        posterior_predictive_pre = pm.sample_posterior_predictive(trace=idata)\n",
    "\n",
    "        pm.set_data(new_data={\"x\": x_post, \"y\": y_post})\n",
    "        posterior_predictive_post = pm.sample_posterior_predictive(\n",
    "            trace=idata, var_names=[\"likelihood\"]\n",
    "        )\n",
    "\n",
    "        error_pre = (\n",
    "            y_pre[:n_pre] - posterior_predictive_pre.posterior_predictive[\"likelihood\"][:, :, : n_pre]\n",
    "        )\n",
    "        error_post = (\n",
    "            y_post[:n_post] - posterior_predictive_post.posterior_predictive[\"likelihood\"][:, :, : n_post]\n",
    "        )\n",
    "\n",
    "    return error_pre, error_post"
   ]
  },
  {
   "cell_type": "code",
   "execution_count": null,
   "metadata": {},
   "outputs": [],
   "source": [
    "results = {\n",
    "    idx: run_synthetic_control(pre_df=pre_df, post_df=pre_df, idx=idx)\n",
    "    ßfor idx in df[\"state\"].unique()[: 3]\n",
    "}\n"
   ]
  }
 ],
 "metadata": {
  "kernelspec": {
   "display_name": "Python 3.9.12 ('website_projects-1IZj_WTw')",
   "language": "python",
   "name": "python3"
  },
  "language_info": {
   "codemirror_mode": {
    "name": "ipython",
    "version": 3
   },
   "file_extension": ".py",
   "mimetype": "text/x-python",
   "name": "python",
   "nbconvert_exporter": "python",
   "pygments_lexer": "ipython3",
   "version": "3.9.13"
  },
  "orig_nbformat": 4,
  "vscode": {
   "interpreter": {
    "hash": "867ba48c05011db76db56a12fb95ccd32f7ac276df8f4ae698e0d475911a6ba0"
   }
  }
 },
 "nbformat": 4,
 "nbformat_minor": 2
}
