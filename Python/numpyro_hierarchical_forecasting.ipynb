{
 "cells": [
  {
   "cell_type": "code",
   "execution_count": null,
   "metadata": {},
   "outputs": [],
   "source": [
    "import arviz as az\n",
    "import jax.numpy as jnp\n",
    "import matplotlib.pyplot as plt\n",
    "import numpyro\n",
    "import numpyro.distributions as dist\n",
    "from jax import random\n",
    "from jaxtyping import Array, Float\n",
    "from numpyro.contrib.control_flow import scan\n",
    "from numpyro.infer import SVI, Predictive, Trace_ELBO\n",
    "from numpyro.infer.autoguide import AutoNormal\n",
    "from numpyro.infer.reparam import LocScaleReparam\n",
    "from pyro.contrib.examples.bart import load_bart_od\n",
    "\n",
    "az.style.use(\"arviz-darkgrid\")\n",
    "plt.rcParams[\"figure.figsize\"] = [12, 7]\n",
    "plt.rcParams[\"figure.dpi\"] = 100\n",
    "plt.rcParams[\"figure.facecolor\"] = \"white\"\n",
    "\n",
    "numpyro.set_host_device_count(n=4)\n",
    "\n",
    "rng_key = random.PRNGKey(seed=42)\n",
    "\n",
    "%load_ext autoreload\n",
    "%autoreload 2\n",
    "%load_ext jaxtyping\n",
    "%jaxtyping.typechecker beartype.beartype\n",
    "%config InlineBackend.figure_format = \"retina\""
   ]
  },
  {
   "cell_type": "code",
   "execution_count": null,
   "metadata": {},
   "outputs": [],
   "source": [
    "dataset = load_bart_od()\n",
    "print(dataset.keys())\n",
    "print(dataset[\"counts\"].shape)\n",
    "print(\" \".join(dataset[\"stations\"]))"
   ]
  },
  {
   "cell_type": "code",
   "execution_count": null,
   "metadata": {},
   "outputs": [],
   "source": [
    "T, O, D = dataset[\"counts\"].shape\n",
    "data = dataset[\"counts\"][:, :, dataset[\"stations\"].index(\"EMBR\")].log1p()\n",
    "print(data.shape)"
   ]
  },
  {
   "cell_type": "code",
   "execution_count": null,
   "metadata": {},
   "outputs": [],
   "source": [
    "fig, ax = plt.subplots()\n",
    "ax.plot(data[-24 * 7 * 2 :], \"-\", c=\"C0\", alpha=0.1, markeredgewidth=0)\n",
    "ax.set(\n",
    "    title=\"Hourly arrivals to EMBR for two weeks\",\n",
    "    ylabel=\"log1p(# rides)\",\n",
    "    xlabel=\"Hour after 2011-01-01\",\n",
    ");"
   ]
  },
  {
   "cell_type": "code",
   "execution_count": null,
   "metadata": {},
   "outputs": [],
   "source": [
    "T2 = data.size(-2)  # end\n",
    "T1 = T2 - 24 * 7 * 2  # train/test split\n",
    "T0 = T1 - 24 * 90  # beginning: train on 90 days of data"
   ]
  },
  {
   "cell_type": "code",
   "execution_count": null,
   "metadata": {},
   "outputs": [],
   "source": [
    "y = jnp.array(data[T0:T2])\n",
    "y_train = jnp.array(data[T0:T1])\n",
    "y_test = jnp.array(data[T1:T2])\n",
    "\n",
    "print(f\"y: {y.shape}\")\n",
    "print(f\"y_train: {y_train.shape}\")\n",
    "print(f\"y_test: {y_test.shape}\")"
   ]
  },
  {
   "cell_type": "code",
   "execution_count": null,
   "metadata": {},
   "outputs": [],
   "source": [
    "n_stations = y_train.shape[-1]\n",
    "\n",
    "time = jnp.array(range(T0, T2))\n",
    "time_train = jnp.array(range(T0, T1))\n",
    "t_max_train = time_train.size\n",
    "\n",
    "time_test = jnp.array(range(T1, T2))\n",
    "t_max_test = time_test.size\n",
    "\n",
    "assert time_train.size + time_test.size == time.size\n",
    "assert y_train.shape == (t_max_train, n_stations)\n",
    "assert y_test.shape == (t_max_test, n_stations)"
   ]
  },
  {
   "cell_type": "code",
   "execution_count": null,
   "metadata": {},
   "outputs": [],
   "source": [
    "covariates = jnp.zeros_like(y)\n",
    "covariates_train = jnp.zeros_like(y_train)\n",
    "covariates_test = jnp.zeros_like(y_test)\n"
   ]
  },
  {
   "cell_type": "code",
   "execution_count": null,
   "metadata": {},
   "outputs": [],
   "source": [
    "def model(\n",
    "    covariates: Float[Array, \"t_max n_series\"],\n",
    "    y: Float[Array, \"t_max n_series\"] | None = None,\n",
    ") -> None:\n",
    "    t_max, n_series = covariates.shape\n",
    "    # Get the time and feature dimensions\n",
    "\n",
    "    # Global scale for the drift\n",
    "    drift_scale = numpyro.sample(\"drift_scale\", dist.LogNormal(loc=-20, scale=5))\n",
    "\n",
    "    # Degrees of freedom for the Student-T distribution\n",
    "    nu = numpyro.sample(\"nu\", dist.Gamma(concentration=10, rate=2))\n",
    "    # Scale for the Student-T distribution\n",
    "    sigma = numpyro.sample(\"sigma\", dist.LogNormal(loc=-5, scale=5))\n",
    "\n",
    "    centered = numpyro.sample(\"centered\", dist.Uniform(low=0, high=1))\n",
    "\n",
    "    with (\n",
    "        numpyro.plate(\"n_series\", n_series, dim=-2),\n",
    "        numpyro.plate(\"time\", t_max, dim=-1),\n",
    "        numpyro.handlers.reparam(config={\"drift\": LocScaleReparam(centered=centered)}),\n",
    "    ):\n",
    "        drift = numpyro.sample(\"drift\", dist.Normal(loc=0, scale=drift_scale))\n",
    "\n",
    "    def transition_fn(carry, t):\n",
    "        \"Local level transition function\"\n",
    "        previous_level = carry\n",
    "        current_level = previous_level + drift[t]\n",
    "        return current_level, current_level\n",
    "\n",
    "    # Compute the latent levels using scan\n",
    "    _, pred_levels = scan(\n",
    "        transition_fn, init=jnp.zeros((n_series,)), xs=jnp.arange(t_max)\n",
    "    )\n",
    "\n",
    "    # Compute the mean of the model\n",
    "    mu = pred_levels\n",
    "\n",
    "    print(mu.shape)\n",
    "\n",
    "    # Sample the observations\n",
    "    with numpyro.handlers.condition(data={\"obs\": y}):\n",
    "        numpyro.sample(\"obs\", dist.StudentT(df=nu, loc=mu, scale=sigma))\n"
   ]
  },
  {
   "cell_type": "code",
   "execution_count": null,
   "metadata": {},
   "outputs": [],
   "source": [
    "numpyro.render_model(\n",
    "    model=model,\n",
    "    model_kwargs={\"covariates\": covariates_train, \"y\": y_train},\n",
    "    render_distributions=True,\n",
    "    render_params=True,\n",
    ")"
   ]
  },
  {
   "cell_type": "code",
   "execution_count": null,
   "metadata": {},
   "outputs": [],
   "source": [
    "prior_predictive = Predictive(model=model, num_samples=2_000, return_sites=[\"obs\"])\n",
    "\n",
    "rng_key, rng_subkey = random.split(rng_key)\n",
    "\n",
    "prior_samples = prior_predictive(rng_subkey, covariates_train)\n",
    "\n",
    "idata_prior = az.from_dict(\n",
    "    prior_predictive={k: v[None, ...] for k, v in prior_samples.items()},\n",
    "    coords={\"time_train\": time_train, \"n_series\": jnp.arange(n_stations)},\n",
    "    dims={\"obs\": [\"time_train\", \"n_series\"]},\n",
    ")"
   ]
  },
  {
   "cell_type": "code",
   "execution_count": null,
   "metadata": {},
   "outputs": [],
   "source": [
    "idata_prior"
   ]
  },
  {
   "cell_type": "code",
   "execution_count": null,
   "metadata": {},
   "outputs": [],
   "source": [
    "%%time\n",
    "\n",
    "guide = AutoNormal(model)\n",
    "optimizer = numpyro.optim.Adam(step_size=0.005)\n",
    "svi = SVI(model, guide, optimizer, loss=Trace_ELBO())\n",
    "num_steps = 5_000\n",
    "\n",
    "rng_key, rng_subkey = random.split(key=rng_key)\n",
    "\n",
    "svi_result = svi.run(\n",
    "    rng_subkey,\n",
    "    num_steps,\n",
    "    covariates_train,\n",
    "    y_train,\n",
    ")\n",
    "\n",
    "fig, ax = plt.subplots(figsize=(9, 6))\n",
    "ax.plot(svi_result.losses)\n",
    "ax.set_title(\"ELBO loss\", fontsize=18, fontweight=\"bold\");"
   ]
  },
  {
   "cell_type": "code",
   "execution_count": null,
   "metadata": {},
   "outputs": [],
   "source": [
    "posterior = Predictive(\n",
    "    model=model,\n",
    "    guide=guide,\n",
    "    params=svi_result.params,\n",
    "    num_samples=2_000,\n",
    "    return_sites=[\"obs\"],\n",
    ")"
   ]
  },
  {
   "cell_type": "code",
   "execution_count": null,
   "metadata": {},
   "outputs": [],
   "source": [
    "covariates_train.shape"
   ]
  },
  {
   "cell_type": "code",
   "execution_count": null,
   "metadata": {},
   "outputs": [],
   "source": [
    "rng_key, rng_subkey = random.split(rng_key)\n",
    "\n",
    "idata_train = az.from_dict(\n",
    "    posterior_predictive={\n",
    "        k: v[None, ...] for k, v in posterior(rng_subkey, covariates_train).items()\n",
    "    },\n",
    "    coords={\"time_train\": time_train, \"n_series\": jnp.arange(n_stations)},\n",
    "    dims={\"obs\": [\"time_train\", \"n_series\"]},\n",
    ")\n",
    "\n",
    "idata_test = az.from_dict(\n",
    "    posterior_predictive={\n",
    "        k: v[None, ...] for k, v in posterior(rng_subkey, covariates).items()\n",
    "    },\n",
    "    coords={\"time\": time, \"n_series\": jnp.arange(n_stations)},\n",
    "    dims={\"obs\": [\"time\", \"n_series\"]},\n",
    ")"
   ]
  },
  {
   "cell_type": "code",
   "execution_count": null,
   "metadata": {},
   "outputs": [],
   "source": [
    "fig, axes = plt.subplots(\n",
    "    nrows=8, ncols=1, figsize=(15, 12), sharex=True, sharey=True, layout=\"constrained\"\n",
    ")\n",
    "for i, ax in enumerate(axes):\n",
    "    az.plot_hdi(\n",
    "        time[time >= T1 - 24 * 7],\n",
    "        idata_test[\"posterior_predictive\"][\"obs\"].sel(n_series=i)[\n",
    "            :, :, time >= T1 - 24 * 7\n",
    "        ],\n",
    "        ax=ax,\n",
    "    )\n",
    "    ax.axvline(78736, color=\"C2\", lw=20, alpha=0.2)\n",
    "    ax.plot(\n",
    "        time[time >= T1 - 24 * 7],\n",
    "        data[T1 - 24 * 7 : T2, i],\n",
    "        \"black\",\n",
    "        lw=1,\n",
    "        label=\"truth\",\n",
    "    )"
   ]
  },
  {
   "cell_type": "code",
   "execution_count": null,
   "metadata": {},
   "outputs": [],
   "source": [
    "T1 - T0"
   ]
  },
  {
   "cell_type": "code",
   "execution_count": null,
   "metadata": {},
   "outputs": [],
   "source": []
  }
 ],
 "metadata": {
  "kernelspec": {
   "display_name": "default",
   "language": "python",
   "name": "python3"
  },
  "language_info": {
   "codemirror_mode": {
    "name": "ipython",
    "version": 3
   },
   "file_extension": ".py",
   "mimetype": "text/x-python",
   "name": "python",
   "nbconvert_exporter": "python",
   "pygments_lexer": "ipython3",
   "version": "3.11.10"
  }
 },
 "nbformat": 4,
 "nbformat_minor": 2
}
