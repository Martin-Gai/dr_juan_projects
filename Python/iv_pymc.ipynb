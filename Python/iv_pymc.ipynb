{
 "cells": [
  {
   "attachments": {},
   "cell_type": "markdown",
   "metadata": {},
   "source": [
    "## Prepare Notebook"
   ]
  },
  {
   "cell_type": "code",
   "execution_count": null,
   "metadata": {},
   "outputs": [],
   "source": [
    "import os\n",
    "import arviz as az\n",
    "import matplotlib.pyplot as plt\n",
    "import matplotlib.ticker as mtick\n",
    "import numpy as np\n",
    "import pandas as pd\n",
    "import pymc as pm\n",
    "import pymc.sampling_jax\n",
    "import pytensor.tensor as pt\n",
    "import seaborn as sns\n",
    "\n",
    "from linearmodels.iv import IV2SLS\n",
    "\n",
    "plt.style.use(\"bmh\")\n",
    "plt.rcParams[\"figure.figsize\"] = [12, 7]\n",
    "plt.rcParams[\"figure.dpi\"] = 100\n",
    "plt.rcParams[\"figure.facecolor\"] = \"white\"\n",
    "\n",
    "%load_ext autoreload\n",
    "%autoreload 2\n",
    "%config InlineBackend.figure_format = \"retina\""
   ]
  },
  {
   "cell_type": "code",
   "execution_count": null,
   "metadata": {},
   "outputs": [],
   "source": [
    "seed: int = sum(map(ord, \"double_ml_bart\"))\n",
    "rng: np.random.Generator = np.random.default_rng(seed=seed)\n",
    "random_seed_int: int = rng.integers(low=0, high=100, size=1).item()"
   ]
  },
  {
   "attachments": {},
   "cell_type": "markdown",
   "metadata": {},
   "source": [
    "## Read Data"
   ]
  },
  {
   "cell_type": "code",
   "execution_count": null,
   "metadata": {},
   "outputs": [],
   "source": [
    "root_path = \"https://raw.githubusercontent.com/matheusfacure/python-causality-handbook/master/causal-inference-for-the-brave-and-true/data/\"\n",
    "data_path = os.path.join(root_path, \"app_engagement_push.csv\")\n",
    "\n",
    "df = pd.read_csv(data_path)\n",
    "\n",
    "n = df.shape[0]\n",
    "\n",
    "df.head()"
   ]
  },
  {
   "attachments": {},
   "cell_type": "markdown",
   "metadata": {},
   "source": [
    "## EDA"
   ]
  },
  {
   "cell_type": "code",
   "execution_count": null,
   "metadata": {},
   "outputs": [],
   "source": [
    "fig, ax = plt.subplots(\n",
    "    nrows=2, ncols=1, figsize=(9, 7), sharex=True, sharey=True, layout=\"constrained\"\n",
    ")\n",
    "sns.histplot(x=\"in_app_purchase\", hue=\"push_assigned\", kde=True, data=df, ax=ax[0])\n",
    "sns.histplot(x=\"in_app_purchase\", hue=\"push_delivered\", kde=True, data=df, ax=ax[1])\n",
    "fig.suptitle(\"Histogram of in-app purchases\", fontsize=16);"
   ]
  },
  {
   "cell_type": "code",
   "execution_count": null,
   "metadata": {},
   "outputs": [],
   "source": [
    "df.groupby(\"push_assigned\").agg({\"in_app_purchase\": [\"mean\", \"std\"]})"
   ]
  },
  {
   "cell_type": "code",
   "execution_count": null,
   "metadata": {},
   "outputs": [],
   "source": [
    "ols_formula = \"in_app_purchase ~ 1 + push_assigned\"\n",
    "ols = IV2SLS.from_formula(formula=ols_formula, data=df).fit()\n",
    "ols.summary.tables[1]"
   ]
  },
  {
   "cell_type": "code",
   "execution_count": null,
   "metadata": {},
   "outputs": [],
   "source": [
    "df.groupby(\"push_delivered\").agg({\"in_app_purchase\": [\"mean\", \"std\"]})"
   ]
  },
  {
   "cell_type": "code",
   "execution_count": null,
   "metadata": {},
   "outputs": [],
   "source": [
    "ols_formula = \"in_app_purchase ~ 1 + push_delivered\"\n",
    "ols = IV2SLS.from_formula(formula=ols_formula, data=df).fit()\n",
    "ols.summary.tables[1]"
   ]
  },
  {
   "cell_type": "code",
   "execution_count": null,
   "metadata": {},
   "outputs": [],
   "source": [
    "iv_formula = \"in_app_purchase ~ 1 + [push_delivered ~ push_assigned]\"\n",
    "iv = IV2SLS.from_formula(formula=iv_formula, data=df).fit()\n",
    "iv.summary.tables[1]"
   ]
  },
  {
   "cell_type": "code",
   "execution_count": null,
   "metadata": {},
   "outputs": [],
   "source": [
    "y = df[\"in_app_purchase\"].to_numpy()\n",
    "t = df[\"push_delivered\"].to_numpy()\n",
    "z = df[\"push_assigned\"].to_numpy()"
   ]
  },
  {
   "cell_type": "code",
   "execution_count": null,
   "metadata": {},
   "outputs": [],
   "source": [
    "with pm.Model() as model:\n",
    "    intercept_y = pm.Normal(name=\"intercept_y\", mu=50, sigma=10)\n",
    "    intercept_t = pm.Normal(name=\"intercept_t\", mu=0, sigma=1)\n",
    "    beta_t = pm.Normal(name=\"beta_t\", mu=0, sigma=10)\n",
    "    beta_z = pm.Normal(name=\"beta_z\", mu=0, sigma=10)\n",
    "    sd_dist = pm.HalfCauchy.dist(beta=2, shape=2)\n",
    "    chol, corr, sigmas = pm.LKJCholeskyCov(name=\"chol_cov\", eta=2, n=2, sd_dist=sd_dist)\n",
    "\n",
    "    pm.Deterministic(name=\"cov\", var=pt.dot(l=chol, r=chol.T))\n",
    "    \n",
    "    mu_y = pm.Deterministic(name=\"mu_y\", var=beta_t * t + intercept_y)\n",
    "    mu_t = pm.Deterministic(name=\"mu_t\", var=beta_z * z + intercept_t)\n",
    "    mu = pm.Deterministic(name=\"mu\", var=pt.stack(tensors=(mu_y, mu_t), axis=1))\n",
    "    \n",
    "    likelihood = pm.MvNormal(\n",
    "        name=\"likelihood\",\n",
    "        mu=mu,\n",
    "        chol=chol,\n",
    "        observed=np.stack(arrays=(y, t), axis=1),\n",
    "        shape=(n, 2),\n",
    "    )\n",
    "\n",
    "pm.model_to_graphviz(model=model)\n"
   ]
  },
  {
   "cell_type": "code",
   "execution_count": null,
   "metadata": {},
   "outputs": [],
   "source": [
    "with model:\n",
    "    idata = pm.sampling_jax.sample_numpyro_nuts(draws=4_000, chains=4, random_seed=rng)"
   ]
  },
  {
   "cell_type": "code",
   "execution_count": null,
   "metadata": {},
   "outputs": [],
   "source": [
    "var_names = [\"beta_t\", \"beta_z\", \"intercept_y\", \"intercept_t\"]\n",
    "\n",
    "az.summary(data=idata, var_names=var_names)"
   ]
  },
  {
   "cell_type": "code",
   "execution_count": null,
   "metadata": {},
   "outputs": [],
   "source": [
    "axes = az.plot_trace(\n",
    "    data=idata,\n",
    "    var_names=var_names,\n",
    "    compact=True,\n",
    "    kind=\"rank_bars\",\n",
    "    backend_kwargs={\"figsize\": (10, 7), \"layout\": \"constrained\"},\n",
    ")\n",
    "plt.gcf().suptitle(\"IV Model - Trace\", fontsize=16);"
   ]
  },
  {
   "cell_type": "code",
   "execution_count": null,
   "metadata": {},
   "outputs": [],
   "source": [
    "fig, ax = plt.subplots(figsize=(8, 6))\n",
    "hdi_prob = 0.94\n",
    "az.plot_posterior(\n",
    "    data=idata,\n",
    "    var_names=[\"beta_t\"],\n",
    "    ref_val=iv.params[\"push_delivered\"],\n",
    "    hdi_prob=hdi_prob,\n",
    "    ax=ax,\n",
    ")\n",
    "ax.axvline(\n",
    "    x=iv.conf_int(level=hdi_prob).loc[\"push_delivered\", \"lower\"],\n",
    "    color=\"C1\",\n",
    "    ls=\"--\",\n",
    "    lw=1,\n",
    "    label=f\"{hdi_prob: .0%} CI (lower)\",\n",
    ")\n",
    "ax.axvline(\n",
    "    x=iv.conf_int(level=hdi_prob).loc[\"push_delivered\", \"upper\"],\n",
    "    color=\"C1\",\n",
    "    ls=\"--\",\n",
    "    lw=1,\n",
    "    label=f\"{hdi_prob: .0%} CI (upper)\",\n",
    ")\n",
    "ax.legend()\n",
    "ax.set(title=\"IV Model - Posterior Distribution Effect\");"
   ]
  },
  {
   "cell_type": "code",
   "execution_count": null,
   "metadata": {},
   "outputs": [],
   "source": [
    "fig, ax = plt.subplots(figsize=(8, 6))\n",
    "sns.histplot(\n",
    "    x=az.extract(data=idata, var_names=[\"chol_cov_corr\"])[0, 1, :],\n",
    "    kde=True,\n",
    "    color=\"C2\",\n",
    "    ax=ax,\n",
    ")\n",
    "ax.set(title=\"IV Model - Posterior Distribution Correlation\")\n"
   ]
  },
  {
   "cell_type": "code",
   "execution_count": null,
   "metadata": {},
   "outputs": [],
   "source": [
    "cov_mean = idata.posterior[\"cov\"].mean(dim=(\"chain\", \"draw\"))\n",
    "\n",
    "cov_samples = np.random.multivariate_normal(\n",
    "    mean=np.zeros(shape=(2)), cov=cov_mean, size=5_000\n",
    ")\n",
    "\n",
    "g = sns.jointplot(x=cov_samples[:, 0], y=cov_samples[:, 1], kind=\"kde\", fill=True, height=6)\n",
    "g.fig.suptitle(\"IV Model - Covariance Samples\", fontsize=16, y=1.05);"
   ]
  },
  {
   "attachments": {},
   "cell_type": "markdown",
   "metadata": {},
   "source": [
    "---\n",
    "\n",
    "## Hierarchical Model: Adding past experiments as priors"
   ]
  },
  {
   "cell_type": "code",
   "execution_count": null,
   "metadata": {},
   "outputs": [],
   "source": [
    "b_j = np.array([3.4, 3.6, 4.25, 4.0, 3.9])\n",
    "se_j = np.array([0.5, 0.55, 0.6, 0.45, 0.44])"
   ]
  },
  {
   "cell_type": "code",
   "execution_count": null,
   "metadata": {},
   "outputs": [],
   "source": [
    "with pm.Model() as hierarchical_model:\n",
    "    beta_t_hat = pm.Normal(name=\"beta_t_hat\", mu=4, sigma=2)\n",
    "    sigma_t_hat = pm.HalfCauchy(name=\"sigma_t_hat\", beta=2)\n",
    "\n",
    "    intercept_y = pm.Normal(name=\"intercept_y\", mu=50, sigma=10)\n",
    "    intercept_t = pm.Normal(name=\"intercept_t\", mu=0, sigma=1)\n",
    "\n",
    "    beta_z = pm.Normal(name=\"beta_z\", mu=0, sigma=10)\n",
    "    sd_dist = pm.HalfCauchy.dist(beta=2, shape=2)\n",
    "    chol, corr, sigmas = pm.LKJCholeskyCov(name=\"chol_cov\", eta=2, n=2, sd_dist=sd_dist)\n",
    "\n",
    "    pm.Deterministic(name=\"cov\", var=pt.dot(l=chol, r=chol.T))\n",
    "\n",
    "    z_j = pm.Normal(name=\"z_j\", mu=0, sigma=1, shape=b_j.size)\n",
    "    beta_j = pm.Deterministic(name=\"beta_j\", var=beta_t_hat + sigma_t_hat * z_j)\n",
    "    pm.Normal(name=\"beta_j_observed\", mu=beta_j, sigma=se_j, observed=b_j)\n",
    "\n",
    "    w = pm.Normal(name=\"w\", mu=0, sigma=1)\n",
    "    beta_t = pm.Deterministic(name=\"beta_t\", var=beta_t_hat + sigma_t_hat * w)\n",
    "    \n",
    "    mu_y = pm.Deterministic(name=\"mu_y\", var=beta_t * t + intercept_y)\n",
    "    mu_t = pm.Deterministic(name=\"mu_t\", var=beta_z * z + intercept_t)\n",
    "    mu = pm.Deterministic(name=\"mu\", var=pt.stack(tensors=(mu_y, mu_t), axis=1))\n",
    "    \n",
    "    likelihood = pm.MvNormal(\n",
    "        name=\"likelihood\",\n",
    "        mu=mu,\n",
    "        chol=chol,\n",
    "        observed=np.stack(arrays=(y, t), axis=1),\n",
    "        shape=(n, 2),\n",
    "    )\n",
    "\n",
    "pm.model_to_graphviz(model=hierarchical_model)"
   ]
  },
  {
   "cell_type": "code",
   "execution_count": null,
   "metadata": {},
   "outputs": [],
   "source": [
    "with hierarchical_model:\n",
    "    hierarchical_idata = pm.sampling_jax.sample_numpyro_nuts(\n",
    "        target_accept=0.95, draws=4_000, chains=4, random_seed=rng\n",
    "    )"
   ]
  },
  {
   "cell_type": "code",
   "execution_count": null,
   "metadata": {},
   "outputs": [],
   "source": [
    "print(f\"Divergences = {hierarchical_idata.sample_stats.diverging.sum().item()}\")"
   ]
  },
  {
   "cell_type": "code",
   "execution_count": null,
   "metadata": {},
   "outputs": [],
   "source": [
    "var_names = [\n",
    "    \"beta_t_hat\",\n",
    "    \"sigma_t_hat\",\n",
    "    \"beta_t\",\n",
    "    \"beta_z\",\n",
    "    \"intercept_y\",\n",
    "    \"intercept_t\",\n",
    "]\n",
    "\n",
    "az.summary(data=hierarchical_idata, var_names=var_names)"
   ]
  },
  {
   "cell_type": "code",
   "execution_count": null,
   "metadata": {},
   "outputs": [],
   "source": [
    "axes = az.plot_trace(\n",
    "    data=hierarchical_idata,\n",
    "    var_names=var_names,\n",
    "    compact=True,\n",
    "    kind=\"rank_bars\",\n",
    "    backend_kwargs={\"figsize\": (10, 9), \"layout\": \"constrained\"},\n",
    ")\n",
    "plt.gcf().suptitle(\"IV Model - Trace\", fontsize=16);"
   ]
  },
  {
   "cell_type": "code",
   "execution_count": null,
   "metadata": {},
   "outputs": [],
   "source": [
    "fig, ax = plt.subplots(\n",
    "    nrows=2, ncols=1, figsize=(9, 7), sharex=True, sharey=False, layout=\"constrained\"\n",
    ")\n",
    "hdi_prob = 0.94\n",
    "\n",
    "az.plot_posterior(\n",
    "    data=idata,\n",
    "    var_names=[\"beta_t\"],\n",
    "    ref_val=iv.params[\"push_delivered\"],\n",
    "    hdi_prob=hdi_prob,\n",
    "    ax=ax[0],\n",
    ")\n",
    "ax[0].axvline(\n",
    "    x=iv.conf_int(level=hdi_prob).loc[\"push_delivered\", \"lower\"],\n",
    "    color=\"C1\",\n",
    "    ls=\"--\",\n",
    "    lw=1,\n",
    "    label=f\"{hdi_prob: .0%} CI (lower)\",\n",
    ")\n",
    "ax[0].axvline(\n",
    "    x=iv.conf_int(level=hdi_prob).loc[\"push_delivered\", \"upper\"],\n",
    "    color=\"C1\",\n",
    "    ls=\"--\",\n",
    "    lw=1,\n",
    "    label=f\"{hdi_prob: .0%} CI (upper)\",\n",
    ")\n",
    "ax[0].legend()\n",
    "ax[0].set(title=\"IV Model - Posterior Distribution Effect\")\n",
    "\n",
    "az.plot_posterior(\n",
    "    data=hierarchical_idata,\n",
    "    var_names=[\"beta_t\"],\n",
    "    hdi_prob=hdi_prob,\n",
    "    ax=ax[1],\n",
    "\n",
    ")\n",
    "\n",
    "for j, (b, se) in enumerate(zip(b_j, se_j)):\n",
    "    ax[1].axvline(x=b, color=f\"C{j + 1}\", ls=\"--\", lw=1, label=f\"b_{j}\")\n",
    "\n",
    "ax[1].legend(title=\"previous experiemnts\", loc=\"upper left\")\n",
    "ax[1].set(title=\"IV Hierarchical Model - Posterior Distribution Effect\");"
   ]
  },
  {
   "cell_type": "code",
   "execution_count": null,
   "metadata": {},
   "outputs": [],
   "source": [
    "ax, *_ = az.plot_forest(\n",
    "    data=hierarchical_idata,\n",
    "    var_names=[\"beta_t_hat\", \"beta_t\"],\n",
    "    combined=True,\n",
    ")\n",
    "\n",
    "ax.axvline(x=iv.params[\"push_delivered\"], color=\"C0\", ls=\"--\", label=\"IV\")\n",
    "\n",
    "for j, (b, se) in enumerate(zip(b_j, se_j)):\n",
    "    ax.axvline(x=b, color=f\"C{j + 1}\", ls=\"--\", lw=1, label=f\"b_{j}\")\n",
    "\n",
    "ax.legend(loc=\"center left\",  bbox_to_anchor=(1, 0.5))"
   ]
  }
 ],
 "metadata": {
  "kernelspec": {
   "display_name": "website_projects-1IZj_WTw",
   "language": "python",
   "name": "python3"
  },
  "language_info": {
   "codemirror_mode": {
    "name": "ipython",
    "version": 3
   },
   "file_extension": ".py",
   "mimetype": "text/x-python",
   "name": "python",
   "nbconvert_exporter": "python",
   "pygments_lexer": "ipython3",
   "version": "3.10.9"
  },
  "orig_nbformat": 4,
  "vscode": {
   "interpreter": {
    "hash": "867ba48c05011db76db56a12fb95ccd32f7ac276df8f4ae698e0d475911a6ba0"
   }
  }
 },
 "nbformat": 4,
 "nbformat_minor": 2
}
