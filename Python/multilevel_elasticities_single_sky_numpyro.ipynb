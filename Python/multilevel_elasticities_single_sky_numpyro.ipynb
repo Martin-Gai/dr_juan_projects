{
 "cells": [
  {
   "cell_type": "code",
   "execution_count": 49,
   "metadata": {},
   "outputs": [
    {
     "name": "stdout",
     "output_type": "stream",
     "text": [
      "The autoreload extension is already loaded. To reload it, use:\n",
      "  %reload_ext autoreload\n"
     ]
    }
   ],
   "source": [
    "import arviz as az\n",
    "import jax.numpy as jnp\n",
    "import matplotlib.pyplot as plt\n",
    "import numpy as np\n",
    "import numpyro\n",
    "import numpyro.distributions as dist\n",
    "import polars as pl\n",
    "from jax import random\n",
    "from numpyro.infer import MCMC, NUTS\n",
    "from sklearn.preprocessing import LabelEncoder\n",
    "\n",
    "az.style.use(\"arviz-darkgrid\")\n",
    "plt.rcParams[\"figure.figsize\"] = [12, 7]\n",
    "plt.rcParams[\"figure.dpi\"] = 100\n",
    "plt.rcParams[\"figure.facecolor\"] = \"white\"\n",
    "\n",
    "numpyro.set_host_device_count(n=4)\n",
    "\n",
    "rng_key = random.PRNGKey(seed=42)\n",
    "\n",
    "%load_ext autoreload\n",
    "%autoreload 2\n",
    "%config InlineBackend.figure_format = \"retina\""
   ]
  },
  {
   "cell_type": "code",
   "execution_count": 2,
   "metadata": {},
   "outputs": [
    {
     "data": {
      "text/html": [
       "<div><style>\n",
       ".dataframe > thead > tr,\n",
       ".dataframe > tbody > tr {\n",
       "  text-align: right;\n",
       "  white-space: pre-wrap;\n",
       "}\n",
       "</style>\n",
       "<small>shape: (5, 10)</small><table border=\"1\" class=\"dataframe\"><thead><tr><th>item_id</th><th>price</th><th>quantities</th><th>time_step</th><th>store_id</th><th>region_store_id</th><th>region_id</th><th>median_income</th><th>log_price</th><th>log_quantities</th></tr><tr><td>i64</td><td>f64</td><td>f64</td><td>i64</td><td>i64</td><td>str</td><td>i64</td><td>f64</td><td>f64</td><td>f64</td></tr></thead><tbody><tr><td>0</td><td>1.335446</td><td>6.170862</td><td>16</td><td>0</td><td>&quot;r-0_s-0&quot;</td><td>0</td><td>5.873343</td><td>0.289265</td><td>1.819839</td></tr><tr><td>0</td><td>1.702792</td><td>3.715124</td><td>15</td><td>0</td><td>&quot;r-0_s-0&quot;</td><td>0</td><td>5.873343</td><td>0.532269</td><td>1.312412</td></tr><tr><td>0</td><td>1.699778</td><td>3.290962</td><td>14</td><td>0</td><td>&quot;r-0_s-0&quot;</td><td>0</td><td>5.873343</td><td>0.530498</td><td>1.19118</td></tr><tr><td>0</td><td>1.335844</td><td>5.702928</td><td>13</td><td>0</td><td>&quot;r-0_s-0&quot;</td><td>0</td><td>5.873343</td><td>0.289563</td><td>1.74098</td></tr><tr><td>0</td><td>1.517213</td><td>4.264949</td><td>12</td><td>0</td><td>&quot;r-0_s-0&quot;</td><td>0</td><td>5.873343</td><td>0.416875</td><td>1.45043</td></tr></tbody></table></div>"
      ],
      "text/plain": [
       "shape: (5, 10)\n",
       "┌─────────┬──────────┬────────────┬───────────┬───┬───────────┬────────────┬───────────┬───────────┐\n",
       "│ item_id ┆ price    ┆ quantities ┆ time_step ┆ … ┆ region_id ┆ median_inc ┆ log_price ┆ log_quant │\n",
       "│ ---     ┆ ---      ┆ ---        ┆ ---       ┆   ┆ ---       ┆ ome        ┆ ---       ┆ ities     │\n",
       "│ i64     ┆ f64      ┆ f64        ┆ i64       ┆   ┆ i64       ┆ ---        ┆ f64       ┆ ---       │\n",
       "│         ┆          ┆            ┆           ┆   ┆           ┆ f64        ┆           ┆ f64       │\n",
       "╞═════════╪══════════╪════════════╪═══════════╪═══╪═══════════╪════════════╪═══════════╪═══════════╡\n",
       "│ 0       ┆ 1.335446 ┆ 6.170862   ┆ 16        ┆ … ┆ 0         ┆ 5.873343   ┆ 0.289265  ┆ 1.819839  │\n",
       "│ 0       ┆ 1.702792 ┆ 3.715124   ┆ 15        ┆ … ┆ 0         ┆ 5.873343   ┆ 0.532269  ┆ 1.312412  │\n",
       "│ 0       ┆ 1.699778 ┆ 3.290962   ┆ 14        ┆ … ┆ 0         ┆ 5.873343   ┆ 0.530498  ┆ 1.19118   │\n",
       "│ 0       ┆ 1.335844 ┆ 5.702928   ┆ 13        ┆ … ┆ 0         ┆ 5.873343   ┆ 0.289563  ┆ 1.74098   │\n",
       "│ 0       ┆ 1.517213 ┆ 4.264949   ┆ 12        ┆ … ┆ 0         ┆ 5.873343   ┆ 0.416875  ┆ 1.45043   │\n",
       "└─────────┴──────────┴────────────┴───────────┴───┴───────────┴────────────┴───────────┴───────────┘"
      ]
     },
     "execution_count": 2,
     "metadata": {},
     "output_type": "execute_result"
    }
   ],
   "source": [
    "market_df = pl.read_csv(\n",
    "    \"https://raw.githubusercontent.com/juanitorduz/website_projects/master/data/multilevel_elasticities_single_sku_data.csv\"\n",
    ")\n",
    "\n",
    "market_df.head()"
   ]
  },
  {
   "cell_type": "markdown",
   "metadata": {},
   "source": [
    "\\begin{align*}\n",
    "\n",
    "\\log(q) & \\sim  \\text{Normal}(\\mu, \\sigma ^2) \\\\\n",
    "\\mu & =  \\alpha + \\beta \\log(p) \\\\\n",
    "\\alpha & = \\alpha_{\\text{intercept}, j} + \\alpha_{\\text{slope}, j} m \\\\\n",
    "\\beta & = \\beta_{\\text{intercept}, j} + \\beta_{\\text{slope}, j} m \\\\\n",
    "\n",
    "\\begin{bmatrix}\n",
    "\\alpha_{\\text{intercept}, j} \\\\\n",
    "\\beta_{\\text{intercept}, j}\n",
    "\\end{bmatrix}\n",
    "& \\sim\n",
    "\\text{MultivariateNormal}(0, \\Sigma_{\\text{intercept}}) \\\\\n",
    "\n",
    "\\begin{bmatrix}\n",
    "\\alpha_{\\text{slope}, j} \\\\\n",
    "\\beta_{\\text{slope}, j}\n",
    "\\end{bmatrix}\n",
    "& \\sim\n",
    "\\text{MultivariateNormal}(0, \\Sigma_{\\text{slope}})\\\\\n",
    "\n",
    "\\Sigma_{\\text{intercept}} & = \\text{diag}(\\sigma_{\\alpha_{\\text{intercept}}}^2, \\sigma_{\\beta_{\\text{intercept}}}^2) \\Omega_{\\text{intercept}} \\text{diag}(\\sigma_{\\alpha_{\\text{intercept}}}^2, \\sigma_{\\beta_{\\text{intercept}}}^2) \\\\\n",
    "\n",
    "\\Sigma_{\\text{slope}} & = \\text{diag}(\\sigma_{\\alpha_{\\text{slope}}}^2, \\sigma_{\\beta_{\\text{slope}}}^2) \\Omega_{\\text{slope}} \\text{diag}(\\sigma_{\\alpha_{\\text{slope}}}^2, \\sigma_{\\beta_{\\text{slope}}}^2) \\\\\n",
    "\n",
    "\\Omega_{\\text{intercept}} & \\sim \\text{LKJ}(1) \\\\\n",
    "\n",
    "\\Omega_{\\text{slope}} & \\sim \\text{LKJ}(1) \\\\\n",
    "\n",
    "\\end{align*}"
   ]
  },
  {
   "cell_type": "code",
   "execution_count": 60,
   "metadata": {},
   "outputs": [],
   "source": [
    "obs_idx = np.array(market_df.shape[0])\n",
    "\n",
    "regions_encoder = LabelEncoder()\n",
    "regions_encoder.fit(market_df[\"region_id\"].to_numpy())\n",
    "regions_idx = regions_encoder.transform(market_df[\"region_id\"].to_numpy())\n",
    "regions = regions_encoder.classes_\n",
    "\n",
    "log_price = market_df[\"log_price\"].to_jax()\n",
    "median_income = market_df[\"median_income\"].to_jax()\n",
    "log_quantities = market_df[\"log_quantities\"].to_jax()\n",
    "\n",
    "effect = [\"intercept\", \"median_income\"]"
   ]
  },
  {
   "cell_type": "code",
   "execution_count": 72,
   "metadata": {},
   "outputs": [],
   "source": [
    "def model(log_price, regions_idx, median_income, log_quantities=None):\n",
    "    d = 2\n",
    "    n_obs = log_price.size\n",
    "    n_regions = np.unique(regions_idx).size\n",
    "\n",
    "    concentration = jnp.ones(1)\n",
    "\n",
    "    with numpyro.plate(\"effect\", d, dim=-1):\n",
    "        sigma_effect = numpyro.sample(\n",
    "            \"sigma_effect\", dist.HalfCauchy(scale=jnp.ones(d))\n",
    "        )\n",
    "        with numpyro.plate(\"regions\", n_regions, dim=-2):\n",
    "            chol_corr = numpyro.sample(\n",
    "                \"chol_corr\",\n",
    "                dist.LKJCholesky(dimension=d, concentration=concentration),\n",
    "            )\n",
    "\n",
    "            chol_cov = jnp.diag(sigma_effect) @ chol_corr\n",
    "\n",
    "            mv = numpyro.sample(\"mv\", dist.MultivariateNormal(0, chol_cov))\n",
    "\n",
    "            alpha_region_effect = numpyro.deterministic(\n",
    "                \"alpha_region_effect\", mv[:, 0, :]\n",
    "            )\n",
    "            beta_region_effect = numpyro.deterministic(\n",
    "                \"beta_region_effect\", mv[:, 1, :]\n",
    "            )\n",
    "\n",
    "    alpha = (\n",
    "        alpha_region_effect[regions_idx, 0]\n",
    "        + alpha_region_effect[regions_idx, 1] * median_income\n",
    "    )\n",
    "    beta = (\n",
    "        beta_region_effect[regions_idx, 0]\n",
    "        + beta_region_effect[regions_idx, 1] * median_income\n",
    "    )\n",
    "\n",
    "    mu = alpha + beta * log_price\n",
    "\n",
    "    sigma = numpyro.sample(\"sigma\", dist.Exponential(rate=1.0 / 0.5))\n",
    "\n",
    "    with numpyro.plate(\"data\", n_obs):\n",
    "        numpyro.sample(\"log_quantities\", dist.Normal(mu, sigma), obs=log_quantities)"
   ]
  },
  {
   "cell_type": "code",
   "execution_count": 73,
   "metadata": {},
   "outputs": [
    {
     "data": {
      "image/svg+xml": [
       "<?xml version=\"1.0\" encoding=\"UTF-8\" standalone=\"no\"?>\n",
       "<!DOCTYPE svg PUBLIC \"-//W3C//DTD SVG 1.1//EN\"\n",
       " \"http://www.w3.org/Graphics/SVG/1.1/DTD/svg11.dtd\">\n",
       "<!-- Generated by graphviz version 11.0.0 (20240428.1522)\n",
       " -->\n",
       "<!-- Pages: 1 -->\n",
       "<svg width=\"812pt\" height=\"433pt\"\n",
       " viewBox=\"0.00 0.00 812.06 433.00\" xmlns=\"http://www.w3.org/2000/svg\" xmlns:xlink=\"http://www.w3.org/1999/xlink\">\n",
       "<g id=\"graph0\" class=\"graph\" transform=\"scale(1 1) rotate(0) translate(4 429)\">\n",
       "<polygon fill=\"white\" stroke=\"none\" points=\"-4,4 -4,-429 808.06,-429 808.06,4 -4,4\"/>\n",
       "<g id=\"clust1\" class=\"cluster\">\n",
       "<title>cluster_effect</title>\n",
       "<polygon fill=\"none\" stroke=\"black\" points=\"74.44,-92.5 74.44,-397.25 580.44,-397.25 580.44,-92.5 74.44,-92.5\"/>\n",
       "<text text-anchor=\"middle\" x=\"557.06\" y=\"-99.7\" font-family=\"Times,serif\" font-size=\"14.00\">effect</text>\n",
       "</g>\n",
       "<g id=\"clust2\" class=\"cluster\">\n",
       "<title>cluster_regions</title>\n",
       "<polygon fill=\"none\" stroke=\"black\" points=\"82.44,-125 82.44,-389.25 446.44,-389.25 446.44,-125 82.44,-125\"/>\n",
       "<text text-anchor=\"middle\" x=\"418.56\" y=\"-132.2\" font-family=\"Times,serif\" font-size=\"14.00\">regions</text>\n",
       "</g>\n",
       "<g id=\"clust3\" class=\"cluster\">\n",
       "<title>cluster_data</title>\n",
       "<polygon fill=\"none\" stroke=\"black\" points=\"104.44,-8 104.44,-84.5 246.44,-84.5 246.44,-8 104.44,-8\"/>\n",
       "<text text-anchor=\"middle\" x=\"227.19\" y=\"-15.2\" font-family=\"Times,serif\" font-size=\"14.00\">data</text>\n",
       "</g>\n",
       "<!-- sigma -->\n",
       "<g id=\"node1\" class=\"node\">\n",
       "<title>sigma</title>\n",
       "<ellipse fill=\"white\" stroke=\"black\" cx=\"33.44\" cy=\"-175.5\" rx=\"33.44\" ry=\"18\"/>\n",
       "<text text-anchor=\"middle\" x=\"33.44\" y=\"-170.45\" font-family=\"Times,serif\" font-size=\"14.00\">sigma</text>\n",
       "</g>\n",
       "<!-- log_quantities -->\n",
       "<g id=\"node7\" class=\"node\">\n",
       "<title>log_quantities</title>\n",
       "<ellipse fill=\"grey\" stroke=\"black\" cx=\"175.44\" cy=\"-58.5\" rx=\"63.12\" ry=\"18\"/>\n",
       "<text text-anchor=\"middle\" x=\"175.44\" y=\"-53.45\" font-family=\"Times,serif\" font-size=\"14.00\">log_quantities</text>\n",
       "</g>\n",
       "<!-- sigma&#45;&gt;log_quantities -->\n",
       "<g id=\"edge7\" class=\"edge\">\n",
       "<title>sigma&#45;&gt;log_quantities</title>\n",
       "<path fill=\"none\" stroke=\"black\" d=\"M38.68,-157.31C45.16,-138.81 57.92,-109.73 78.44,-92.5 88.45,-84.1 100.7,-77.8 113.09,-73.09\"/>\n",
       "<polygon fill=\"black\" stroke=\"black\" points=\"114.21,-76.4 122.52,-69.84 111.93,-69.79 114.21,-76.4\"/>\n",
       "</g>\n",
       "<!-- sigma_effect -->\n",
       "<g id=\"node2\" class=\"node\">\n",
       "<title>sigma_effect</title>\n",
       "<ellipse fill=\"white\" stroke=\"black\" cx=\"513.44\" cy=\"-363.25\" rx=\"59.03\" ry=\"18\"/>\n",
       "<text text-anchor=\"middle\" x=\"513.44\" y=\"-358.2\" font-family=\"Times,serif\" font-size=\"14.00\">sigma_effect</text>\n",
       "</g>\n",
       "<!-- mv -->\n",
       "<g id=\"node4\" class=\"node\">\n",
       "<title>mv</title>\n",
       "<ellipse fill=\"white\" stroke=\"black\" cx=\"358.44\" cy=\"-247.5\" rx=\"27\" ry=\"18\"/>\n",
       "<text text-anchor=\"middle\" x=\"358.44\" y=\"-242.45\" font-family=\"Times,serif\" font-size=\"14.00\">mv</text>\n",
       "</g>\n",
       "<!-- sigma_effect&#45;&gt;mv -->\n",
       "<g id=\"edge1\" class=\"edge\">\n",
       "<title>sigma_effect&#45;&gt;mv</title>\n",
       "<path fill=\"none\" stroke=\"black\" d=\"M498.36,-345.63C486.16,-332.72 468.17,-314.84 450.44,-301.5 431.47,-287.23 408.32,-273.91 389.98,-264.2\"/>\n",
       "<polygon fill=\"black\" stroke=\"black\" points=\"391.64,-261.11 381.15,-259.61 388.41,-267.32 391.64,-261.11\"/>\n",
       "</g>\n",
       "<!-- chol_corr -->\n",
       "<g id=\"node3\" class=\"node\">\n",
       "<title>chol_corr</title>\n",
       "<ellipse fill=\"white\" stroke=\"black\" cx=\"358.44\" cy=\"-363.25\" rx=\"46.23\" ry=\"18\"/>\n",
       "<text text-anchor=\"middle\" x=\"358.44\" y=\"-358.2\" font-family=\"Times,serif\" font-size=\"14.00\">chol_corr</text>\n",
       "</g>\n",
       "<!-- chol_corr&#45;&gt;mv -->\n",
       "<g id=\"edge2\" class=\"edge\">\n",
       "<title>chol_corr&#45;&gt;mv</title>\n",
       "<path fill=\"none\" stroke=\"black\" d=\"M358.44,-344.97C358.44,-327.02 358.44,-298.61 358.44,-277.26\"/>\n",
       "<polygon fill=\"black\" stroke=\"black\" points=\"361.94,-277.45 358.44,-267.45 354.94,-277.45 361.94,-277.45\"/>\n",
       "</g>\n",
       "<!-- alpha_region_effect -->\n",
       "<g id=\"node5\" class=\"node\">\n",
       "<title>alpha_region_effect</title>\n",
       "<ellipse fill=\"white\" stroke=\"black\" stroke-dasharray=\"5,2\" cx=\"175.44\" cy=\"-175.5\" rx=\"84.62\" ry=\"18\"/>\n",
       "<text text-anchor=\"middle\" x=\"175.44\" y=\"-170.45\" font-family=\"Times,serif\" font-size=\"14.00\">alpha_region_effect</text>\n",
       "</g>\n",
       "<!-- mv&#45;&gt;alpha_region_effect -->\n",
       "<g id=\"edge3\" class=\"edge\">\n",
       "<title>mv&#45;&gt;alpha_region_effect</title>\n",
       "<path fill=\"none\" stroke=\"black\" d=\"M335.26,-237.63C307.98,-227.2 261.87,-209.56 226.17,-195.91\"/>\n",
       "<polygon fill=\"black\" stroke=\"black\" points=\"227.46,-192.65 216.87,-192.35 224.96,-199.19 227.46,-192.65\"/>\n",
       "</g>\n",
       "<!-- beta_region_effect -->\n",
       "<g id=\"node6\" class=\"node\">\n",
       "<title>beta_region_effect</title>\n",
       "<ellipse fill=\"white\" stroke=\"black\" stroke-dasharray=\"5,2\" cx=\"358.44\" cy=\"-175.5\" rx=\"80.01\" ry=\"18\"/>\n",
       "<text text-anchor=\"middle\" x=\"358.44\" y=\"-170.45\" font-family=\"Times,serif\" font-size=\"14.00\">beta_region_effect</text>\n",
       "</g>\n",
       "<!-- mv&#45;&gt;beta_region_effect -->\n",
       "<g id=\"edge4\" class=\"edge\">\n",
       "<title>mv&#45;&gt;beta_region_effect</title>\n",
       "<path fill=\"none\" stroke=\"black\" d=\"M358.44,-229.2C358.44,-221.91 358.44,-213.23 358.44,-205.04\"/>\n",
       "<polygon fill=\"black\" stroke=\"black\" points=\"361.94,-205.12 358.44,-195.12 354.94,-205.12 361.94,-205.12\"/>\n",
       "</g>\n",
       "<!-- alpha_region_effect&#45;&gt;log_quantities -->\n",
       "<g id=\"edge5\" class=\"edge\">\n",
       "<title>alpha_region_effect&#45;&gt;log_quantities</title>\n",
       "<path fill=\"none\" stroke=\"black\" d=\"M175.44,-157.03C175.44,-138.78 175.44,-109.83 175.44,-88.2\"/>\n",
       "<polygon fill=\"black\" stroke=\"black\" points=\"178.94,-88.27 175.44,-78.27 171.94,-88.27 178.94,-88.27\"/>\n",
       "</g>\n",
       "<!-- beta_region_effect&#45;&gt;log_quantities -->\n",
       "<g id=\"edge6\" class=\"edge\">\n",
       "<title>beta_region_effect&#45;&gt;log_quantities</title>\n",
       "<path fill=\"none\" stroke=\"black\" d=\"M343.96,-157.55C327.54,-139.26 299.15,-110.35 269.44,-92.5 257.74,-85.47 244.32,-79.64 231.36,-74.94\"/>\n",
       "<polygon fill=\"black\" stroke=\"black\" points=\"232.65,-71.68 222.05,-71.74 230.37,-78.3 232.65,-71.68\"/>\n",
       "</g>\n",
       "<!-- distribution_description_node -->\n",
       "<g id=\"node8\" class=\"node\">\n",
       "<title>distribution_description_node</title>\n",
       "<text text-anchor=\"start\" x=\"598.81\" y=\"-407.7\" font-family=\"Times,serif\" font-size=\"14.00\">sigma_effect ~ HalfCauchy</text>\n",
       "<text text-anchor=\"start\" x=\"598.81\" y=\"-391.2\" font-family=\"Times,serif\" font-size=\"14.00\">chol_corr ~ LKJCholesky</text>\n",
       "<text text-anchor=\"start\" x=\"598.81\" y=\"-374.7\" font-family=\"Times,serif\" font-size=\"14.00\">mv ~ MultivariateNormal</text>\n",
       "<text text-anchor=\"start\" x=\"598.81\" y=\"-358.2\" font-family=\"Times,serif\" font-size=\"14.00\">alpha_region_effect ~ Deterministic</text>\n",
       "<text text-anchor=\"start\" x=\"598.81\" y=\"-341.7\" font-family=\"Times,serif\" font-size=\"14.00\">beta_region_effect ~ Deterministic</text>\n",
       "<text text-anchor=\"start\" x=\"598.81\" y=\"-325.2\" font-family=\"Times,serif\" font-size=\"14.00\">sigma ~ Exponential</text>\n",
       "<text text-anchor=\"start\" x=\"598.81\" y=\"-308.7\" font-family=\"Times,serif\" font-size=\"14.00\">log_quantities ~ Normal</text>\n",
       "</g>\n",
       "</g>\n",
       "</svg>\n"
      ],
      "text/plain": [
       "<graphviz.graphs.Digraph at 0x36a703620>"
      ]
     },
     "execution_count": 73,
     "metadata": {},
     "output_type": "execute_result"
    }
   ],
   "source": [
    "numpyro.render_model(\n",
    "    model=model,\n",
    "    model_kwargs={\n",
    "        \"log_price\": log_price,\n",
    "        \"regions_idx\": regions_idx,\n",
    "        \"median_income\": median_income,\n",
    "        \"log_quantities\": log_quantities,\n",
    "    },\n",
    "    render_distributions=True,\n",
    "    render_params=True,\n",
    ")"
   ]
  },
  {
   "cell_type": "code",
   "execution_count": 66,
   "metadata": {},
   "outputs": [
    {
     "data": {
      "application/vnd.jupyter.widget-view+json": {
       "model_id": "84b8dcfa61694c0e8b5116e1aa4c3434",
       "version_major": 2,
       "version_minor": 0
      },
      "text/plain": [
       "  0%|          | 0/2000 [00:00<?, ?it/s]"
      ]
     },
     "metadata": {},
     "output_type": "display_data"
    },
    {
     "data": {
      "application/vnd.jupyter.widget-view+json": {
       "model_id": "272dcaebc9a54ef193648df3edcf4668",
       "version_major": 2,
       "version_minor": 0
      },
      "text/plain": [
       "  0%|          | 0/2000 [00:00<?, ?it/s]"
      ]
     },
     "metadata": {},
     "output_type": "display_data"
    },
    {
     "data": {
      "application/vnd.jupyter.widget-view+json": {
       "model_id": "1b6ebdf7c3d941409e83a6efb10889a4",
       "version_major": 2,
       "version_minor": 0
      },
      "text/plain": [
       "  0%|          | 0/2000 [00:00<?, ?it/s]"
      ]
     },
     "metadata": {},
     "output_type": "display_data"
    },
    {
     "data": {
      "application/vnd.jupyter.widget-view+json": {
       "model_id": "d87ada0d92de4e85a066a472104ef982",
       "version_major": 2,
       "version_minor": 0
      },
      "text/plain": [
       "  0%|          | 0/2000 [00:00<?, ?it/s]"
      ]
     },
     "metadata": {},
     "output_type": "display_data"
    }
   ],
   "source": [
    "sampler = NUTS(model)\n",
    "mcmc = MCMC(\n",
    "    sampler=sampler,\n",
    "    num_warmup=1_000,\n",
    "    num_samples=1_000,\n",
    "    num_chains=4,\n",
    ")\n",
    "\n",
    "rng_key, rng_subkey = random.split(rng_key)\n",
    "mcmc.run(rng_subkey, log_price, regions_idx, median_income, log_quantities)"
   ]
  },
  {
   "cell_type": "code",
   "execution_count": 79,
   "metadata": {},
   "outputs": [
    {
     "data": {
      "text/plain": [
       "['intercept', 'median_income']"
      ]
     },
     "execution_count": 79,
     "metadata": {},
     "output_type": "execute_result"
    }
   ],
   "source": [
    "effect"
   ]
  },
  {
   "cell_type": "code",
   "execution_count": 80,
   "metadata": {},
   "outputs": [],
   "source": [
    "idata = az.from_numpyro(\n",
    "    mcmc,\n",
    "    coords={\"effect\": effect, \"d\": [0, 1], \"regions\": regions},\n",
    "    dims={\n",
    "        \"sigma_effect\": [\"effect\"],\n",
    "        \"mv\": [\"regions\", \"d\", \"effect\"],\n",
    "        \"alpha_region_effect\": [\"regions\", \"effect\"],\n",
    "        \"beta_region_effect\": [\"regions\", \"effect\"],\n",
    "    },\n",
    ")"
   ]
  },
  {
   "cell_type": "code",
   "execution_count": 88,
   "metadata": {},
   "outputs": [
    {
     "data": {
      "text/plain": [
       "array([<Axes: title={'center': '94.0% HDI'}>], dtype=object)"
      ]
     },
     "execution_count": 88,
     "metadata": {},
     "output_type": "execute_result"
    },
    {
     "data": {
      "image/png": "[encoded data removed]",
      "text/plain": [
       "<Figure size 600x490 with 1 Axes>"
      ]
     },
     "metadata": {
      "image/png": {
       "height": 501,
       "width": 611
      }
     },
     "output_type": "display_data"
    }
   ],
   "source": [
    "az.plot_forest(\n",
    "    idata[\"posterior\"][\"beta_region_effect\"].sel(effect=\"median_income\"), combined=True\n",
    ")"
   ]
  },
  {
   "cell_type": "code",
   "execution_count": null,
   "metadata": {},
   "outputs": [],
   "source": []
  }
 ],
 "metadata": {
  "kernelspec": {
   "display_name": "website_projects-1IZj_WTw",
   "language": "python",
   "name": "python3"
  },
  "language_info": {
   "codemirror_mode": {
    "name": "ipython",
    "version": 3
   },
   "file_extension": ".py",
   "mimetype": "text/x-python",
   "name": "python",
   "nbconvert_exporter": "python",
   "pygments_lexer": "ipython3",
   "version": "3.12.3"
  }
 },
 "nbformat": 4,
 "nbformat_minor": 2
}
