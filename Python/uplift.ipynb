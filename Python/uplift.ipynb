{
 "cells": [
  {
   "cell_type": "markdown",
   "metadata": {},
   "source": [
    "## Prepare Notebook"
   ]
  },
  {
   "cell_type": "code",
   "execution_count": 1,
   "metadata": {},
   "outputs": [
    {
     "name": "stderr",
     "output_type": "stream",
     "text": [
      "pandas.Int64Index is deprecated and will be removed from pandas in a future version. Use pandas.Index with the appropriate dtype instead.\n"
     ]
    }
   ],
   "source": [
    "from causalml.inference.meta import(\n",
    "    BaseRClassifier,\n",
    "    BaseSClassifier,\n",
    "    BaseTClassifier,\n",
    "    BaseXClassifier,\n",
    ")\n",
    "import matplotlib.pyplot as plt\n",
    "import numpy as np\n",
    "import pandas as pd\n",
    "import seaborn as sns\n",
    "from sklearn.compose import ColumnTransformer\n",
    "from sklearn.impute import SimpleImputer\n",
    "from sklearn.preprocessing import OrdinalEncoder\n",
    "from xgboost import XGBClassifier\n",
    "\n",
    "plt.style.use(\"bmh\")\n",
    "plt.rcParams[\"figure.figsize\"] = [10, 6]\n",
    "plt.rcParams[\"figure.dpi\"] = 100\n",
    "\n",
    "%load_ext autoreload\n",
    "%autoreload 2\n",
    "%config InlineBackend.figure_format = \"svg\""
   ]
  },
  {
   "cell_type": "markdown",
   "metadata": {},
   "source": [
    "## Read Data\n",
    "\n",
    "Data set: [RetailHero.ai contest data:](https://ods.ai/competitions/x5-retailhero-uplift-modeling/data)\n",
    "\n",
    "https://nbviewer.org/github/maks-sh/scikit-uplift/blob/master/notebooks/RetailHero_EN.ipynb"
   ]
  },
  {
   "cell_type": "code",
   "execution_count": 2,
   "metadata": {},
   "outputs": [],
   "source": [
    "from pathlib import Path\n",
    "\n",
    "data_path = Path(\"/Users/juanitorduz/Downloads/retailhero-uplift/data\")\n",
    "\n",
    "clients_df = pd.read_csv(\n",
    "    data_path / \"clients.csv\",\n",
    "    parse_dates=[\"first_issue_date\", \"first_redeem_date\"]\n",
    ")\n",
    "uplift_train_df = pd.read_csv(data_path / \"uplift_train.csv\")\n",
    "uplift_test_df = pd.read_csv(data_path / \"uplift_test.csv\")"
   ]
  },
  {
   "cell_type": "markdown",
   "metadata": {},
   "source": [
    "- `clients_df` data:"
   ]
  },
  {
   "cell_type": "code",
   "execution_count": 3,
   "metadata": {},
   "outputs": [
    {
     "name": "stdout",
     "output_type": "stream",
     "text": [
      "<class 'pandas.core.frame.DataFrame'>\n",
      "RangeIndex: 400162 entries, 0 to 400161\n",
      "Data columns (total 5 columns):\n",
      " #   Column             Non-Null Count   Dtype         \n",
      "---  ------             --------------   -----         \n",
      " 0   client_id          400162 non-null  object        \n",
      " 1   first_issue_date   400162 non-null  datetime64[ns]\n",
      " 2   first_redeem_date  364693 non-null  datetime64[ns]\n",
      " 3   age                400162 non-null  int64         \n",
      " 4   gender             400162 non-null  object        \n",
      "dtypes: datetime64[ns](2), int64(1), object(2)\n",
      "memory usage: 15.3+ MB\n"
     ]
    }
   ],
   "source": [
    "clients_df.info()"
   ]
  },
  {
   "cell_type": "markdown",
   "metadata": {},
   "source": [
    "- `uplift_train_df` data:"
   ]
  },
  {
   "cell_type": "code",
   "execution_count": 4,
   "metadata": {},
   "outputs": [
    {
     "name": "stdout",
     "output_type": "stream",
     "text": [
      "<class 'pandas.core.frame.DataFrame'>\n",
      "RangeIndex: 200039 entries, 0 to 200038\n",
      "Data columns (total 3 columns):\n",
      " #   Column         Non-Null Count   Dtype \n",
      "---  ------         --------------   ----- \n",
      " 0   client_id      200039 non-null  object\n",
      " 1   treatment_flg  200039 non-null  int64 \n",
      " 2   target         200039 non-null  int64 \n",
      "dtypes: int64(2), object(1)\n",
      "memory usage: 4.6+ MB\n"
     ]
    }
   ],
   "source": [
    "uplift_train_df.info()"
   ]
  },
  {
   "cell_type": "markdown",
   "metadata": {},
   "source": [
    "- `uplift_test_df` data:"
   ]
  },
  {
   "cell_type": "code",
   "execution_count": 5,
   "metadata": {},
   "outputs": [
    {
     "name": "stdout",
     "output_type": "stream",
     "text": [
      "<class 'pandas.core.frame.DataFrame'>\n",
      "RangeIndex: 200123 entries, 0 to 200122\n",
      "Data columns (total 1 columns):\n",
      " #   Column     Non-Null Count   Dtype \n",
      "---  ------     --------------   ----- \n",
      " 0   client_id  200123 non-null  object\n",
      "dtypes: object(1)\n",
      "memory usage: 1.5+ MB\n"
     ]
    }
   ],
   "source": [
    "uplift_test_df.info()"
   ]
  },
  {
   "cell_type": "markdown",
   "metadata": {},
   "source": [
    "## EDA"
   ]
  },
  {
   "cell_type": "code",
   "execution_count": 6,
   "metadata": {},
   "outputs": [
    {
     "name": "stdout",
     "output_type": "stream",
     "text": [
      "\n",
      "clients_id\n",
      "----------\n",
      "clients_df: 400162\n",
      "uplift_train_df: 200039\n",
      "uplift_test_df: 200123\n",
      "\n"
     ]
    }
   ],
   "source": [
    "assert clients_df.shape[0] == clients_df[\"client_id\"].nunique()\n",
    "assert uplift_train_df.shape[0] == uplift_train_df[\"client_id\"].nunique()\n",
    "assert uplift_test_df.shape[0] == uplift_test_df[\"client_id\"].nunique()\n",
    "\n",
    "print(f\"\"\"\n",
    "clients_id\n",
    "----------\n",
    "clients_df: {clients_df[\"client_id\"].nunique()}\n",
    "uplift_train_df: {uplift_train_df[\"client_id\"].nunique()}\n",
    "uplift_test_df: {uplift_test_df[\"client_id\"].nunique()}\n",
    "\"\"\")"
   ]
  },
  {
   "cell_type": "code",
   "execution_count": 7,
   "metadata": {},
   "outputs": [
    {
     "data": {
      "text/plain": [
       "U    185706\n",
       "F    147649\n",
       "M     66807\n",
       "Name: gender, dtype: int64"
      ]
     },
     "execution_count": 7,
     "metadata": {},
     "output_type": "execute_result"
    }
   ],
   "source": [
    "clients_df[\"gender\"].value_counts()"
   ]
  },
  {
   "cell_type": "code",
   "execution_count": 8,
   "metadata": {},
   "outputs": [
    {
     "data": {
      "text/plain": [
       " 33      9437\n",
       " 36      9394\n",
       " 32      9354\n",
       " 31      9286\n",
       " 35      9152\n",
       "         ... \n",
       " 537        1\n",
       "-953        1\n",
       " 1841       1\n",
       "-2          1\n",
       " 827        1\n",
       "Name: age, Length: 290, dtype: int64"
      ]
     },
     "execution_count": 8,
     "metadata": {},
     "output_type": "execute_result"
    }
   ],
   "source": [
    "clients_df[\"age\"].value_counts()"
   ]
  },
  {
   "cell_type": "code",
   "execution_count": 9,
   "metadata": {},
   "outputs": [
    {
     "data": {
      "text/html": [
       "<div>\n",
       "<style scoped>\n",
       "    .dataframe tbody tr th:only-of-type {\n",
       "        vertical-align: middle;\n",
       "    }\n",
       "\n",
       "    .dataframe tbody tr th {\n",
       "        vertical-align: top;\n",
       "    }\n",
       "\n",
       "    .dataframe thead th {\n",
       "        text-align: right;\n",
       "    }\n",
       "</style>\n",
       "<table border=\"1\" class=\"dataframe\">\n",
       "  <thead>\n",
       "    <tr style=\"text-align: right;\">\n",
       "      <th></th>\n",
       "      <th>treatment_flg</th>\n",
       "      <th>target</th>\n",
       "      <th>combination_count</th>\n",
       "      <th>total</th>\n",
       "      <th>share</th>\n",
       "    </tr>\n",
       "  </thead>\n",
       "  <tbody>\n",
       "    <tr>\n",
       "      <th>0</th>\n",
       "      <td>0</td>\n",
       "      <td>0</td>\n",
       "      <td>39695</td>\n",
       "      <td>200039</td>\n",
       "      <td>0.198436</td>\n",
       "    </tr>\n",
       "    <tr>\n",
       "      <th>1</th>\n",
       "      <td>0</td>\n",
       "      <td>1</td>\n",
       "      <td>60363</td>\n",
       "      <td>200039</td>\n",
       "      <td>0.301756</td>\n",
       "    </tr>\n",
       "    <tr>\n",
       "      <th>2</th>\n",
       "      <td>1</td>\n",
       "      <td>0</td>\n",
       "      <td>36342</td>\n",
       "      <td>200039</td>\n",
       "      <td>0.181675</td>\n",
       "    </tr>\n",
       "    <tr>\n",
       "      <th>3</th>\n",
       "      <td>1</td>\n",
       "      <td>1</td>\n",
       "      <td>63639</td>\n",
       "      <td>200039</td>\n",
       "      <td>0.318133</td>\n",
       "    </tr>\n",
       "  </tbody>\n",
       "</table>\n",
       "</div>"
      ],
      "text/plain": [
       "   treatment_flg  target  combination_count   total     share\n",
       "0              0       0              39695  200039  0.198436\n",
       "1              0       1              60363  200039  0.301756\n",
       "2              1       0              36342  200039  0.181675\n",
       "3              1       1              63639  200039  0.318133"
      ]
     },
     "execution_count": 9,
     "metadata": {},
     "output_type": "execute_result"
    }
   ],
   "source": [
    "uplift_train_df \\\n",
    "    .groupby([\"treatment_flg\", \"target\"], as_index=False) \\\n",
    "    .agg(combination_count=(\"client_id\", \"count\")) \\\n",
    "    .assign(\n",
    "        total = lambda x: x[\"combination_count\"].sum(),\n",
    "        share = lambda x: x[\"combination_count\"] / x[\"total\"],\n",
    "    )"
   ]
  },
  {
   "cell_type": "code",
   "execution_count": 10,
   "metadata": {},
   "outputs": [
    {
     "data": {
      "text/html": [
       "<div>\n",
       "<style scoped>\n",
       "    .dataframe tbody tr th:only-of-type {\n",
       "        vertical-align: middle;\n",
       "    }\n",
       "\n",
       "    .dataframe tbody tr th {\n",
       "        vertical-align: top;\n",
       "    }\n",
       "\n",
       "    .dataframe thead th {\n",
       "        text-align: right;\n",
       "    }\n",
       "</style>\n",
       "<table border=\"1\" class=\"dataframe\">\n",
       "  <thead>\n",
       "    <tr style=\"text-align: right;\">\n",
       "      <th></th>\n",
       "      <th>treatment_flg</th>\n",
       "      <th>combination_count</th>\n",
       "      <th>total</th>\n",
       "      <th>share</th>\n",
       "    </tr>\n",
       "  </thead>\n",
       "  <tbody>\n",
       "    <tr>\n",
       "      <th>0</th>\n",
       "      <td>0</td>\n",
       "      <td>100058</td>\n",
       "      <td>200039</td>\n",
       "      <td>0.500192</td>\n",
       "    </tr>\n",
       "    <tr>\n",
       "      <th>1</th>\n",
       "      <td>1</td>\n",
       "      <td>99981</td>\n",
       "      <td>200039</td>\n",
       "      <td>0.499808</td>\n",
       "    </tr>\n",
       "  </tbody>\n",
       "</table>\n",
       "</div>"
      ],
      "text/plain": [
       "   treatment_flg  combination_count   total     share\n",
       "0              0             100058  200039  0.500192\n",
       "1              1              99981  200039  0.499808"
      ]
     },
     "execution_count": 10,
     "metadata": {},
     "output_type": "execute_result"
    }
   ],
   "source": [
    "uplift_train_df \\\n",
    "    .groupby([\"treatment_flg\"], as_index=False) \\\n",
    "    .agg(combination_count=(\"client_id\", \"count\")) \\\n",
    "    .assign(\n",
    "        total = lambda x: x[\"combination_count\"].sum(),\n",
    "        share = lambda x: x[\"combination_count\"] / x[\"total\"],\n",
    "    )"
   ]
  },
  {
   "cell_type": "markdown",
   "metadata": {},
   "source": [
    "## Prepare Data"
   ]
  },
  {
   "cell_type": "code",
   "execution_count": 11,
   "metadata": {},
   "outputs": [],
   "source": [
    "features_df = clients_df.copy() \\\n",
    "    .set_index(\"client_id\") \\\n",
    "    .assign(\n",
    "        issue_redeem_delay_days = lambda x:\n",
    "            (x[\"first_redeem_date\"] - x[\"first_issue_date\"]).dt.days\n",
    "    ) \\\n",
    "    .drop(columns=[\"first_issue_date\", \"first_redeem_date\"])\n",
    "\n",
    "\n",
    "data_df = pd.merge(\n",
    "    left=features_df,\n",
    "    right=(\n",
    "        uplift_train_df\n",
    "        .copy()\n",
    "        .set_index(\"client_id\")\n",
    "    ),\n",
    "    left_index=True,\n",
    "    right_index=True,\n",
    "    how=\"inner\"\n",
    ")"
   ]
  },
  {
   "cell_type": "code",
   "execution_count": 12,
   "metadata": {},
   "outputs": [],
   "source": [
    "from sklearn.model_selection import train_test_split\n",
    "\n",
    "target_col = \"target\"\n",
    "treatment_col = \"treatment_flg\"\n",
    "\n",
    "y = data_df[target_col]\n",
    "w = data_df[treatment_col]\n",
    "x = data_df.drop(columns=[treatment_col, target_col])\n",
    "\n",
    "idx_train, idx_val = train_test_split(\n",
    "    data_df.index, test_size=0.3, random_state=123\n",
    ")\n",
    "\n",
    "x_train = x.loc[idx_train]\n",
    "x_val = x.loc[idx_val]\n",
    "\n",
    "w_train = w.loc[idx_train]\n",
    "w_val = w.loc[idx_val]\n",
    "\n",
    "y_train = y.loc[idx_train]\n",
    "y_val = y.loc[idx_val]"
   ]
  },
  {
   "cell_type": "code",
   "execution_count": 13,
   "metadata": {},
   "outputs": [],
   "source": [
    "preprocessor = ColumnTransformer(transformers=[\n",
    "    (\"issue_redeem_delay_days_imputer\", SimpleImputer(fill_value=0), [\"issue_redeem_delay_days\"]),\n",
    "    (\"gender_ordinal_encoder\", OrdinalEncoder(), [\"gender\"]),\n",
    "], remainder='passthrough')\n",
    "\n",
    "preprocessor.fit(x_train)\n",
    "x_train_transformed = preprocessor.transform(x_train)\n",
    "x_val_transformed =  preprocessor.transform(x_val)"
   ]
  },
  {
   "cell_type": "markdown",
   "metadata": {},
   "source": [
    "## Models"
   ]
  },
  {
   "cell_type": "markdown",
   "metadata": {},
   "source": [
    "### S-Learner"
   ]
  },
  {
   "cell_type": "code",
   "execution_count": 14,
   "metadata": {},
   "outputs": [
    {
     "name": "stdout",
     "output_type": "stream",
     "text": [
      "[22:09:24] WARNING: /Users/runner/work/xgboost/xgboost/src/learner.cc:1115: Starting in XGBoost 1.3.0, the default evaluation metric used with the objective 'binary:logistic' was changed from 'error' to 'logloss'. Explicitly set eval_metric if you'd like to restore the old behavior.\n"
     ]
    }
   ],
   "source": [
    "from sklearn.compose import ColumnTransformer\n",
    "from sklearn.pipeline import Pipeline\n",
    "from sklearn.preprocessing import OrdinalEncoder\n",
    "from xgboost import XGBClassifier\n",
    "from sklearn.impute import SimpleImputer\n",
    "\n",
    "\n",
    "xgb = XGBClassifier(use_label_encoder=False)\n",
    "\n",
    "learner_s = BaseSClassifier(learner=xgb)\n",
    "\n",
    "s_ate = learner_s.estimate_ate(X=x_train_transformed, treatment=w_train, y=y_train)"
   ]
  },
  {
   "cell_type": "markdown",
   "metadata": {},
   "source": [
    "### T-Learner"
   ]
  },
  {
   "cell_type": "code",
   "execution_count": 15,
   "metadata": {},
   "outputs": [
    {
     "name": "stdout",
     "output_type": "stream",
     "text": [
      "[22:09:26] WARNING: /Users/runner/work/xgboost/xgboost/src/learner.cc:1115: Starting in XGBoost 1.3.0, the default evaluation metric used with the objective 'binary:logistic' was changed from 'error' to 'logloss'. Explicitly set eval_metric if you'd like to restore the old behavior.\n",
      "[22:09:28] WARNING: /Users/runner/work/xgboost/xgboost/src/learner.cc:1115: Starting in XGBoost 1.3.0, the default evaluation metric used with the objective 'binary:logistic' was changed from 'error' to 'logloss'. Explicitly set eval_metric if you'd like to restore the old behavior.\n"
     ]
    }
   ],
   "source": [
    "learner_t = BaseTClassifier(learner=xgb)\n",
    "\n",
    "t_ate_lwr, t_ate, t_ate_upr = learner_t.estimate_ate(X=x_train_transformed, treatment=w_train, y=y_train)"
   ]
  },
  {
   "cell_type": "markdown",
   "metadata": {},
   "source": [
    "### X-Learner"
   ]
  },
  {
   "cell_type": "code",
   "execution_count": 16,
   "metadata": {},
   "outputs": [
    {
     "name": "stderr",
     "output_type": "stream",
     "text": [
      "The use of label encoder in XGBClassifier is deprecated and will be removed in a future release. To remove this warning, do the following: 1) Pass option use_label_encoder=False when constructing XGBClassifier object; and 2) Encode your labels (y) as integers starting with 0, i.e. 0, 1, 2, ..., [num_class - 1].\n"
     ]
    },
    {
     "name": "stdout",
     "output_type": "stream",
     "text": [
      "[22:09:29] WARNING: /Users/runner/work/xgboost/xgboost/src/learner.cc:1115: Starting in XGBoost 1.3.0, the default evaluation metric used with the objective 'binary:logistic' was changed from 'error' to 'logloss'. Explicitly set eval_metric if you'd like to restore the old behavior.\n",
      "[22:09:30] WARNING: /Users/runner/work/xgboost/xgboost/src/learner.cc:1115: Starting in XGBoost 1.3.0, the default evaluation metric used with the objective 'binary:logistic' was changed from 'error' to 'logloss'. Explicitly set eval_metric if you'd like to restore the old behavior.\n"
     ]
    }
   ],
   "source": [
    "from sklearn.linear_model import LinearRegression\n",
    "\n",
    "learner_x = BaseXClassifier(\n",
    "    outcome_learner=XGBClassifier(),\n",
    "    effect_learner=LinearRegression(),\n",
    ")\n",
    "\n",
    "x_ate_lwr, x_ate, x_ate_upr = learner_x.estimate_ate(\n",
    "    X=x_train_transformed,\n",
    "    y=y_train,\n",
    "    treatment=w_train,\n",
    "    p=pd.Series(0.5, index=y_train.index)\n",
    ")"
   ]
  },
  {
   "cell_type": "code",
   "execution_count": null,
   "metadata": {},
   "outputs": [],
   "source": []
  }
 ],
 "metadata": {
  "interpreter": {
   "hash": "867ba48c05011db76db56a12fb95ccd32f7ac276df8f4ae698e0d475911a6ba0"
  },
  "kernelspec": {
   "display_name": "Python 3.8.12 ('website_projects-1IZj_WTw')",
   "language": "python",
   "name": "python3"
  },
  "language_info": {
   "codemirror_mode": {
    "name": "ipython",
    "version": 3
   },
   "file_extension": ".py",
   "mimetype": "text/x-python",
   "name": "python",
   "nbconvert_exporter": "python",
   "pygments_lexer": "ipython3",
   "version": "3.8.12"
  },
  "orig_nbformat": 4
 },
 "nbformat": 4,
 "nbformat_minor": 2
}
